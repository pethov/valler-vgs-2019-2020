{
 "cells": [
  {
   "cell_type": "markdown",
   "metadata": {},
   "source": [
    "## Halveringsmetoden\n"
   ]
  },
  {
   "cell_type": "code",
   "execution_count": 9,
   "metadata": {},
   "outputs": [
    {
     "name": "stdout",
     "output_type": "stream",
     "text": [
      "3.000001907348633\n"
     ]
    }
   ],
   "source": [
    "def f(x):\n",
    "    return 2*x-6\n",
    "\n",
    "a = -10\n",
    "b = 10\n",
    "\n",
    "m = (a+b)/2\n",
    "\n",
    "tol= 1E-5\n",
    "\n",
    "while abs(f(m)) > tol:\n",
    "    if f(a)*f(m)<0:\n",
    "        b = m\n",
    "    elif f(b)*f(m)<0:\n",
    "        a = m\n",
    "    m = (a+b)/2\n",
    "\n",
    "print(m)\n"
   ]
  },
  {
   "cell_type": "markdown",
   "metadata": {},
   "source": [
    "## Antall ganger halveringsmetoden blir gjort\n"
   ]
  },
  {
   "cell_type": "code",
   "execution_count": 15,
   "metadata": {},
   "outputs": [
    {
     "name": "stdout",
     "output_type": "stream",
     "text": [
      "x = 5.000000000291038 og løkka gikk 33 ganger\n"
     ]
    }
   ],
   "source": [
    "def g(x):\n",
    "    return 2*x-10\n",
    "\n",
    "\n",
    "def halv(a,b,f, tol=10**-9):\n",
    "    m = (a+b)/2\n",
    "    ganger = 0\n",
    "    while abs(f(m)) > tol:\n",
    "        if f(a)*f(m)<0:\n",
    "            b = m\n",
    "        elif f(b)*f(m)<0:\n",
    "            a = m\n",
    "        m = (a+b)/2\n",
    "        ganger+= 1\n",
    "    return m, ganger\n",
    "    \n",
    "nullpu, antall = halv(-5,10,g)\n",
    "print('x =',nullpu,'og løkka gikk',antall,'ganger')\n"
   ]
  },
  {
   "cell_type": "markdown",
   "metadata": {},
   "source": [
    "## newtons metode\n",
    "\n",
    "$$x_{x+1}-(f(x_n)/(f'(x_n)$$\n",
    "funker ikke når det landes på topp- eller bunnpunkt som gjør at metoden ikke konvergerer, man må også ha den deriverte\n",
    "\n",
    "konvergerer raskt mot nullpunktet\n"
   ]
  },
  {
   "cell_type": "code",
   "execution_count": 33,
   "metadata": {},
   "outputs": [
    {
     "name": "stdout",
     "output_type": "stream",
     "text": [
      "nullpunkt i x = 2.8284271247461903 og løkka gikk 6 ganger\n"
     ]
    }
   ],
   "source": [
    "\n",
    "def f(x):\n",
    "    return x**2-8\n",
    "\n",
    "def fder(x):\n",
    "    return 2*x\n",
    "\n",
    "def newt(f, fder, x, tol = 10** -8, N = 100):\n",
    "    i =0\n",
    "    while abs(f(x)) > tol and i< 100:\n",
    "        x= x -(f(x)/(fder(x)))\n",
    "        i+=1\n",
    "    return x, i\n",
    "\n",
    "nullpu, antall = newt(f,fder,10)\n",
    "print('nullpunkt i x =',nullpu,'og løkka gikk',antall,'ganger')\n",
    "    "
   ]
  },
  {
   "cell_type": "markdown",
   "metadata": {},
   "source": [
    "### kule forsøk"
   ]
  },
  {
   "cell_type": "code",
   "execution_count": 27,
   "metadata": {},
   "outputs": [
    {
     "name": "stdout",
     "output_type": "stream",
     "text": [
      "kula bruker 0.9802925496194242 sekunder før den treffer bakken\n",
      "kula beveger seg  4.713566263801306 meter.\n",
      "[5.772916107555063]\n",
      "[0.5235987755982988]\n"
     ]
    }
   ],
   "source": [
    "from pylab import*\n",
    "\n",
    "v = 6.8\n",
    "g = 9.81\n",
    "r = pi/4\n",
    "i = 0\n",
    "t=10\n",
    "tol = tol = 10**-5\n",
    "\n",
    "def h(t,r):\n",
    "    return v*math.sin(r)*t-0.5*g*t**2\n",
    "\n",
    "def hder(t):\n",
    "    return v*math.sin(r)-g*t\n",
    "\n",
    "def l(t,r):\n",
    "     return v*math.cos(r)*t\n",
    "    \n",
    "while abs(h(t,r)) > tol and i< 100:\n",
    "    t= t -(h(t,r)/(hder(t)))\n",
    "    i+=1\n",
    "\n",
    "print('kula bruker', t,'sekunder før den treffer bakken') \n",
    "print ('kula beveger seg ',l(t,r), 'meter.')\n",
    "\n",
    "#hvilken vinkel kula kommer lengst\n",
    "listelengde=[0]\n",
    "listevinkel=[0]\n",
    "\n",
    "\n",
    "for k in range (3,7):\n",
    "    r= pi/k\n",
    "    sted= l(t,r)\n",
    "    if sted> listelengde[0]:\n",
    "        listelengde.pop(0)\n",
    "        listelengde.append(sted)\n",
    "        listevinkel.pop(0)\n",
    "        listevinkel.append(r)\n",
    "\n",
    "print(listelengde)\n",
    "print(listevinkel)\n",
    "\n"
   ]
  },
  {
   "cell_type": "markdown",
   "metadata": {},
   "source": [
    "### ekspriment\n",
    "\n",
    "    vinkel på skuddet= 45°\n",
    "    lende på skuddene= 380 meter, 380 meter, 380 meter, 380 meter, 360 meter\n",
    "    startfart = 6.8 m/s\n",
    "\n",
    "### praktisk vs teori\n",
    "Kula gikk kortere i virkligheten enn teoretisk dette er fordi vi ikke har tatt hensyn til luftmotsand og at kulen starter på et sted som er  høyere enn der den lander. dette gjør at den kommer lengere enn i teorien."
   ]
  },
  {
   "cell_type": "markdown",
   "metadata": {},
   "source": [
    "\n"
   ]
  },
  {
   "cell_type": "code",
   "execution_count": null,
   "metadata": {},
   "outputs": [],
   "source": []
  }
 ],
 "metadata": {
  "kernelspec": {
   "display_name": "Python 3",
   "language": "python",
   "name": "python3"
  },
  "language_info": {
   "codemirror_mode": {
    "name": "ipython",
    "version": 3
   },
   "file_extension": ".py",
   "mimetype": "text/x-python",
   "name": "python",
   "nbconvert_exporter": "python",
   "pygments_lexer": "ipython3",
   "version": "3.7.3"
  }
 },
 "nbformat": 4,
 "nbformat_minor": 2
}
