{
 "cells": [
  {
   "cell_type": "markdown",
   "metadata": {},
   "source": [
    "# 1 Grunnstoffer og bindingstyper\n"
   ]
  },
  {
   "cell_type": "markdown",
   "metadata": {},
   "source": [
    "## a\n",
    "\n"
   ]
  },
  {
   "cell_type": "code",
   "execution_count": 5,
   "metadata": {},
   "outputs": [],
   "source": [
    "from pylab import*\n",
    "\n",
    "class Grunnstoff: \n",
    "    def __init__ (self, a_num, sym, navn, masse, el_neg):\n",
    "        self.a_num = a_num\n",
    "        self.sym = sym\n",
    "        self.navn = navn \n",
    "        self.masse = masse \n",
    "        self.el_neg = el_neg  \n",
    "        \n",
    "    def sjekk(self): \n",
    "        return self.a_num,self.sym,self.navn, self.el_neg, self.masse"
   ]
  },
  {
   "cell_type": "markdown",
   "metadata": {},
   "source": [
    "## b\n"
   ]
  },
  {
   "cell_type": "code",
   "execution_count": 6,
   "metadata": {},
   "outputs": [],
   "source": [
    "    \n",
    "karbon = Grunnstoff(6,\"C\", \"Karbon\", 12.01, 2.5)\n",
    "\n",
    "litium = Grunnstoff(3, \"Li\", \"Litium\", 6.941, 1.0)\n",
    "\n",
    "fluor = Grunnstoff(9, \"F\", \"Fluor\", 19.00, 4.0)\n",
    "\n",
    "brom = Grunnstoff(35, \"Br\", \"Brom\", 79.9, 3.0)\n",
    "\n",
    "klor = Grunnstoff(17, \"Cl\", \"Klor\", 35.45, 3.2)\n",
    "\n",
    "kalium = Grunnstoff(19, \"K\", \"Kalium\", 39.10, 0.8)\n",
    "\n",
    "oksygen = Grunnstoff(8, \"O\", \"Oksygen\", 16.00, 3.5)\n",
    "g\n",
    "hydrogen = Grunnstoff(1, \"H\", \"Hydrogen\", 1.008, 2.1)"
   ]
  },
  {
   "cell_type": "markdown",
   "metadata": {},
   "source": [
    "## c\n"
   ]
  },
  {
   "cell_type": "code",
   "execution_count": 7,
   "metadata": {},
   "outputs": [],
   "source": [
    "def bindingstype(grunnstoff1, grunnstoff2):\n",
    "    neg1 = grunnstoff1.el_neg\n",
    "    neg2 = grunnstoff2.el_neg\n",
    "    forskjell = neg2 - neg1\n",
    "    if forskjell >= 2.0 :\n",
    "        print(\"ionebinding\")\n",
    "    elif forskjell < 2.0 and forskjell > 1.6 :\n",
    "        print(\"mellom ionebinding og polar kovalent binding\")\n",
    "    elif forskjell <= 1.6 and forskjell >= 0.5 : \n",
    "        print(\"polar binding\") \n",
    "    elif forskjell <  0.5 and forskjell > 0.3 : \n",
    "        print(\"mellom polar og  upolar kovalent\")\n",
    "    elif forskjell <= 0.3: \n",
    "        print(\"upolar kovalent binding\")"
   ]
  },
  {
   "cell_type": "markdown",
   "metadata": {},
   "source": [
    "## d\n"
   ]
  },
  {
   "cell_type": "code",
   "execution_count": 8,
   "metadata": {},
   "outputs": [
    {
     "name": "stdout",
     "output_type": "stream",
     "text": [
      "\n",
      "K2O:\n",
      "ionebinding\n",
      "\n",
      "BrCl:\n",
      "upolar kovalent binding\n",
      "\n",
      "LiF:\n",
      "ionebinding\n",
      "\n",
      "CH4:\n",
      "upolar kovalent binding\n"
     ]
    }
   ],
   "source": [
    "print(\"\\nK2O:\")\n",
    "LiF = bindingstype(kalium, oksygen)\n",
    "\n",
    "print(\"\\nBrCl:\")\n",
    "LiF =  bindingstype(brom, klor)\n",
    "\n",
    "print(\"\\nLiF:\")\n",
    "LiF =  bindingstype(litium, fluor)\n",
    "\n",
    "print(\"\\nCH4:\")\n",
    "LiF =  bindingstype(karbon, hydrogen)"
   ]
  },
  {
   "cell_type": "code",
   "execution_count": null,
   "metadata": {},
   "outputs": [],
   "source": []
  },
  {
   "cell_type": "code",
   "execution_count": null,
   "metadata": {},
   "outputs": [],
   "source": []
  }
 ],
 "metadata": {
  "kernelspec": {
   "display_name": "Python 3",
   "language": "python",
   "name": "python3"
  },
  "language_info": {
   "codemirror_mode": {
    "name": "ipython",
    "version": 3
   },
   "file_extension": ".py",
   "mimetype": "text/x-python",
   "name": "python",
   "nbconvert_exporter": "python",
   "pygments_lexer": "ipython3",
   "version": "3.7.6"
  }
 },
 "nbformat": 4,
 "nbformat_minor": 4
}
